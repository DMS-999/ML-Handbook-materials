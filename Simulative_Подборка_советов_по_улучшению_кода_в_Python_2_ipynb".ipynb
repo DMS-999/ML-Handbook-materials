{
  "nbformat": 4,
  "nbformat_minor": 0,
  "metadata": {
    "colab": {
      "provenance": [],
      "include_colab_link": true
    },
    "kernelspec": {
      "name": "python3",
      "display_name": "Python 3"
    },
    "language_info": {
      "name": "python"
    }
  },
  "cells": [
    {
      "cell_type": "markdown",
      "metadata": {
        "id": "view-in-github",
        "colab_type": "text"
      },
      "source": [
        "<a href=\"https://colab.research.google.com/github/DMS-999/ML-Handbook-materials/blob/main/Simulative_%D0%9F%D0%BE%D0%B4%D0%B1%D0%BE%D1%80%D0%BA%D0%B0_%D1%81%D0%BE%D0%B2%D0%B5%D1%82%D0%BE%D0%B2_%D0%BF%D0%BE_%D1%83%D0%BB%D1%83%D1%87%D1%88%D0%B5%D0%BD%D0%B8%D1%8E_%D0%BA%D0%BE%D0%B4%D0%B0_%D0%B2_Python_2_ipynb%22.ipynb\" target=\"_parent\"><img src=\"https://colab.research.google.com/assets/colab-badge.svg\" alt=\"Open In Colab\"/></a>"
      ]
    },
    {
      "cell_type": "markdown",
      "source": [
        "В программировании важно заботиться о безопасности кода, в том числе о сокрытии приватных методов, об обработке возможных ошибок и о написании кода, не предполагающего возникновения ошибки"
      ],
      "metadata": {
        "id": "AoP0kuklc2OV"
      }
    },
    {
      "cell_type": "markdown",
      "source": [
        "# 1. Защита от значений None"
      ],
      "metadata": {
        "id": "3wlMcmA-d33g"
      }
    },
    {
      "cell_type": "markdown",
      "source": [
        "Ниже приведен обычный кусок кода, где идет обращение ко вложенному атрибуту"
      ],
      "metadata": {
        "id": "t-Yde1-YeEFK"
      }
    },
    {
      "cell_type": "code",
      "source": [
        "class Owner:\n",
        "  def __init__(self, name):\n",
        "    self.name = name\n",
        "\n",
        "class Dog:\n",
        "  def __init__(self, owner=None):\n",
        "    self.owner = owner"
      ],
      "metadata": {
        "id": "QhD4KUaVeido"
      },
      "execution_count": null,
      "outputs": []
    },
    {
      "cell_type": "code",
      "source": [
        "owner = Owner(\"Bob\")\n",
        "dog = Dog(owner)"
      ],
      "metadata": {
        "id": "KHw6Gi-0evPU"
      },
      "execution_count": null,
      "outputs": []
    },
    {
      "cell_type": "code",
      "source": [
        "if dog.owner.name == \"Bob\":\n",
        "  print(\"this is bob's dog\")"
      ],
      "metadata": {
        "colab": {
          "base_uri": "https://localhost:8080/"
        },
        "id": "DkmIBGr6eDHp",
        "outputId": "3cc09916-825b-41c1-843f-bc43904638d6"
      },
      "execution_count": null,
      "outputs": [
        {
          "output_type": "stream",
          "name": "stdout",
          "text": [
            "this is bob's dog\n"
          ]
        }
      ]
    },
    {
      "cell_type": "markdown",
      "source": [
        "Однако данный кусок кода вряд ли будет одобрен для добавления в промышленную кодовую базу по причине того, что здесь возможна ситуация, когда какой-либо из атрибутов имеет значение None"
      ],
      "metadata": {
        "id": "xThqnLj0fVwB"
      }
    },
    {
      "cell_type": "markdown",
      "source": [
        "Ниже приведен пример возможной обработки потенциальной ошибки. В данном случае отсутствующее значение атрибута не приведет к возникновению неисправной ситуации"
      ],
      "metadata": {
        "id": "F3NDDr8KfspU"
      }
    },
    {
      "cell_type": "code",
      "execution_count": null,
      "metadata": {
        "id": "yWll1SYOcvyq"
      },
      "outputs": [],
      "source": [
        "dog = Dog()"
      ]
    },
    {
      "cell_type": "code",
      "source": [
        "if dog and dog.owner and dog.owner.name == \"Bob\":\n",
        "  print(\"this is bob's dog\")"
      ],
      "metadata": {
        "id": "aC7uo0cgfoaW"
      },
      "execution_count": null,
      "outputs": []
    },
    {
      "cell_type": "markdown",
      "source": [
        "Логические операторы в Python являются ленивыми, то есть они прекращают исполнение в случае, когда конечный результат не поменяется вне зависимости от значений, следующих далее"
      ],
      "metadata": {
        "id": "eDhZMLu0f_H-"
      }
    },
    {
      "cell_type": "markdown",
      "source": [
        "# 2. Защита от итерирования по None значениям"
      ],
      "metadata": {
        "id": "5Hx8_XlsgVpC"
      }
    },
    {
      "cell_type": "markdown",
      "source": [
        "Ниже приведен пример обычного итерирования по списку"
      ],
      "metadata": {
        "id": "f2lmlfxcgeTM"
      }
    },
    {
      "cell_type": "code",
      "source": [
        "my_list = [1, 2, 3, 4, 5]"
      ],
      "metadata": {
        "id": "u6wA7P9ifqwF"
      },
      "execution_count": null,
      "outputs": []
    },
    {
      "cell_type": "code",
      "source": [
        "for item in my_list:\n",
        "  print(item)"
      ],
      "metadata": {
        "colab": {
          "base_uri": "https://localhost:8080/"
        },
        "id": "oDvJP8iTgkC2",
        "outputId": "a8a5c90c-1c69-4da6-94b4-8826df13f81d"
      },
      "execution_count": null,
      "outputs": [
        {
          "output_type": "stream",
          "name": "stdout",
          "text": [
            "1\n",
            "2\n",
            "3\n",
            "4\n",
            "5\n"
          ]
        }
      ]
    },
    {
      "cell_type": "markdown",
      "source": [
        "Однако в случае, если `mylist` равен None, мы получим ошибку"
      ],
      "metadata": {
        "id": "GvlHl7ybgss-"
      }
    },
    {
      "cell_type": "markdown",
      "source": [
        "Подобную ситуацию можно обработать с помощью использования оператора or"
      ],
      "metadata": {
        "id": "abQsrP-Qg_MS"
      }
    },
    {
      "cell_type": "code",
      "source": [
        "my_none_list = None"
      ],
      "metadata": {
        "id": "q_KE-oPDg2KW"
      },
      "execution_count": null,
      "outputs": []
    },
    {
      "cell_type": "code",
      "source": [
        "for item in my_none_list or []:\n",
        "  print(item)"
      ],
      "metadata": {
        "id": "KI4nFyBYgmel"
      },
      "execution_count": null,
      "outputs": []
    },
    {
      "cell_type": "markdown",
      "source": [
        "# 3. Функции с нижним подчеркиванием"
      ],
      "metadata": {
        "id": "uAs48zIyhNG-"
      }
    },
    {
      "cell_type": "markdown",
      "source": [
        "Ниже приведен пример класса, где метод `run` использует внутренние методы `clean` и `transform`"
      ],
      "metadata": {
        "id": "L_cWt2BahcVI"
      }
    },
    {
      "cell_type": "code",
      "source": [
        "class MyClass:\n",
        "  def run(self, ls: list[str], n: int) -> list[str]:\n",
        "    cleaned_ls = self.clean(ls)\n",
        "    transformed_ls = self.transform(cleaned_ls, n)\n",
        "    return transformed_ls\n",
        "\n",
        "  def clean(ls: list[str]) -> list[str]:\n",
        "    pass\n",
        "\n",
        "  def transform(ls: list[str], n: int) -> list[str]:\n",
        "    pass"
      ],
      "metadata": {
        "id": "hpS1e0IQg7Ei"
      },
      "execution_count": null,
      "outputs": []
    },
    {
      "cell_type": "markdown",
      "source": [
        "В промышленном коде следует стараться писать как можно более явный код, где видна четкая грань между внешними, используемыми другими объектами, и внутренними, используемыми только самим объектом, методами класса. В данном случае внешние и внтуренние методы никак не отличаются, пользователь может вызвать любой из методов"
      ],
      "metadata": {
        "id": "LJUHB3mwiOxy"
      }
    },
    {
      "cell_type": "markdown",
      "source": [
        "Это можно исправить с помощью символа нижнего подчеркивания"
      ],
      "metadata": {
        "id": "a0iOMUm2idUW"
      }
    },
    {
      "cell_type": "code",
      "source": [
        "class MyClass:\n",
        "  def run(self, ls: list[str], n: int) -> list[str]:\n",
        "    cleaned_ls = self._clean(ls)\n",
        "    transformed_ls = self._transform(cleaned_ls, n)\n",
        "    return transformed_ls\n",
        "\n",
        "  def _clean(ls: list[str]) -> list[str]:\n",
        "    pass\n",
        "\n",
        "  def _transform(ls: list[str], n: int) -> list[str]:\n",
        "    pass"
      ],
      "metadata": {
        "id": "XT_cLQwiiJFZ"
      },
      "execution_count": null,
      "outputs": []
    },
    {
      "cell_type": "markdown",
      "source": [
        "В функциональном плане разницы не будет. Эти методы также могут быть вызваны другими объектами, но в данном случае будет явно указано, что это внутренний метод и что лучше его не вызывать из-вне объекта"
      ],
      "metadata": {
        "id": "DvsBc7fTi7-g"
      }
    },
    {
      "cell_type": "markdown",
      "source": [
        "# 4. Использование декораторов для обработки ошибок и логирования"
      ],
      "metadata": {
        "id": "YSsXNSSpjNn-"
      }
    },
    {
      "cell_type": "markdown",
      "source": [
        "Вот класс с 3 функциями, и каждая функция выполняет разные действия. Однако обратите внимание, что в разных функциях есть похожие шаги — блок try-except, а также функциональность логирования."
      ],
      "metadata": {
        "id": "YllYL1KMob3F"
      }
    },
    {
      "cell_type": "code",
      "source": [
        "import logging\n",
        "import sys\n",
        "\n",
        "logging.basicConfig(level=logging.INFO, stream=sys.stdout, format='%(message)s')\n",
        "\n",
        "logger = logging.getLogger(__name__)"
      ],
      "metadata": {
        "id": "HgYGzIR1osD0"
      },
      "execution_count": null,
      "outputs": []
    },
    {
      "cell_type": "code",
      "source": [
        "import time"
      ],
      "metadata": {
        "id": "4xg3TzOOpaFk"
      },
      "execution_count": null,
      "outputs": []
    },
    {
      "cell_type": "code",
      "source": [
        "class NewClass:\n",
        "  def func1(self):\n",
        "    try:\n",
        "      time.sleep(1)\n",
        "      print(\"hello fron func1\")\n",
        "      logger.info(\"func1\")\n",
        "    except Exception as e:\n",
        "      logger.error(str(e))\n",
        "  def func2(self):\n",
        "    try:\n",
        "      time.sleep(2)\n",
        "      print(\"hello fron func2\")\n",
        "      logger.info(\"func2\")\n",
        "    except Exception as e:\n",
        "      logger.error(str(e))\n",
        "  def func3(self):\n",
        "    try:\n",
        "      time.sleep(3)\n",
        "      print(\"hello fron func3\")\n",
        "      logger.info(\"func3\")\n",
        "    except Exception as e:\n",
        "      logger.error(str(e))\n"
      ],
      "metadata": {
        "id": "oUhgofifi6ub"
      },
      "execution_count": null,
      "outputs": []
    },
    {
      "cell_type": "code",
      "source": [
        "nc = NewClass()\n",
        "\n",
        "nc.func1()\n",
        "nc.func2()\n",
        "nc.func3()"
      ],
      "metadata": {
        "colab": {
          "base_uri": "https://localhost:8080/"
        },
        "id": "UzHI19JQpKzI",
        "outputId": "ff3b34fb-7366-4169-da0e-a9694d31b57b"
      },
      "execution_count": null,
      "outputs": [
        {
          "output_type": "stream",
          "name": "stdout",
          "text": [
            "hello fron func1\n",
            "hello fron func2\n",
            "hello fron func3\n"
          ]
        }
      ]
    },
    {
      "cell_type": "markdown",
      "source": [
        "Одной хорошей практикой для уменьшения количества повторяющегося кода является написание функции-декоратора, содержащей общую функциональность."
      ],
      "metadata": {
        "id": "t2-dchdCqraV"
      }
    },
    {
      "cell_type": "code",
      "source": [
        "def handle_exception_and_logging(func):\n",
        "  def wrapper(*arg, **kwargs):\n",
        "    try:\n",
        "      res = func(*arg, **kwargs)\n",
        "      logger.info(f\"{func.__name__}\")\n",
        "    except Exception as e:\n",
        "      logger.error(str(e))\n",
        "  return wrapper"
      ],
      "metadata": {
        "id": "lsPw-2hkpQo1"
      },
      "execution_count": null,
      "outputs": []
    },
    {
      "cell_type": "code",
      "source": [
        "class NewClass:\n",
        "  @handle_exception_and_logging\n",
        "  def func1(self):\n",
        "      time.sleep(1)\n",
        "      print(\"hello fron func1\")\n",
        "  @handle_exception_and_logging\n",
        "  def func2(self):\n",
        "      time.sleep(2)\n",
        "      print(\"hello fron func2\")\n",
        "  @handle_exception_and_logging\n",
        "  def func3(self):\n",
        "      time.sleep(3)\n",
        "      print(\"hello fron func3\")"
      ],
      "metadata": {
        "id": "AdMifOiXrLo_"
      },
      "execution_count": null,
      "outputs": []
    },
    {
      "cell_type": "code",
      "source": [
        "nc = NewClass()\n",
        "\n",
        "nc.func1()\n",
        "nc.func2()\n",
        "nc.func3()"
      ],
      "metadata": {
        "colab": {
          "base_uri": "https://localhost:8080/"
        },
        "id": "sr4AOZkbrVVj",
        "outputId": "92ff489f-5600-4411-8af1-8cb21a5ed806"
      },
      "execution_count": null,
      "outputs": [
        {
          "output_type": "stream",
          "name": "stdout",
          "text": [
            "hello fron func1\n",
            "hello fron func2\n",
            "hello fron func3\n"
          ]
        }
      ]
    },
    {
      "cell_type": "markdown",
      "source": [
        "Таким образом, если мы хотим обновить общий код (блок try-except и код логирования), нам больше не нужно обновлять его в 3 местах — нам нужно только обновить код нашего декоратора, содержащий общую функциональность."
      ],
      "metadata": {
        "id": "LzeAZr2rsn59"
      }
    },
    {
      "cell_type": "code",
      "source": [],
      "metadata": {
        "id": "u7yLQv7srWi0"
      },
      "execution_count": null,
      "outputs": []
    }
  ]
}